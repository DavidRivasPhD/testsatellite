{
  "nbformat": 4,
  "nbformat_minor": 0,
  "metadata": {
    "colab": {
      "provenance": [],
      "authorship_tag": "ABX9TyMfWL6lpg/gt/DJpvJnSUdb",
      "include_colab_link": true
    },
    "kernelspec": {
      "name": "python3",
      "display_name": "Python 3"
    },
    "language_info": {
      "name": "python"
    }
  },
  "cells": [
    {
      "cell_type": "markdown",
      "metadata": {
        "id": "view-in-github",
        "colab_type": "text"
      },
      "source": [
        "<a href=\"https://colab.research.google.com/github/DavidRivasPhD/testsatellite/blob/main/testmiscellaneous.ipynb\" target=\"_parent\"><img src=\"https://colab.research.google.com/assets/colab-badge.svg\" alt=\"Open In Colab\"/></a>"
      ]
    },
    {
      "cell_type": "code",
      "source": [
        "from google.colab import drive"
      ],
      "metadata": {
        "id": "CIzV-eoAqdr5"
      },
      "execution_count": null,
      "outputs": []
    },
    {
      "cell_type": "markdown",
      "source": [],
      "metadata": {
        "id": "A70UK8Z3nlBW"
      }
    },
    {
      "cell_type": "markdown",
      "source": [
        "I open this one from my drive"
      ],
      "metadata": {
        "id": "4CoT5jJknmCs"
      }
    },
    {
      "cell_type": "code",
      "source": [
        "drive.mount('/content/drive')"
      ],
      "metadata": {
        "colab": {
          "base_uri": "https://localhost:8080/"
        },
        "id": "MBL3_KKarNK5",
        "outputId": "0fc2d854-0b13-4c1d-9473-ad14db141a06"
      },
      "execution_count": null,
      "outputs": [
        {
          "output_type": "stream",
          "name": "stdout",
          "text": [
            "Mounted at /content/drive\n"
          ]
        }
      ]
    },
    {
      "cell_type": "code",
      "execution_count": null,
      "metadata": {
        "id": "3a52SkAuvKNj"
      },
      "outputs": [],
      "source": [
        "#Organizing the dataset\n",
        "data_dir = '/PlantVillage'\n",
        "train_dir = data_dir + '/train'\n",
        "valid_dir = data_dir + '/val'\n",
        "nThreads = 4\n",
        "batch_size = 32\n",
        "use_gpu = torch.cuda.is_available()"
      ]
    },
    {
      "cell_type": "code",
      "source": [
        "/content/drive/MyDrive/AI ML Analytics/ML DL/test/datafolder/textfile.txt"
      ],
      "metadata": {
        "id": "N0rn4iIrqUhU"
      },
      "execution_count": null,
      "outputs": []
    },
    {
      "cell_type": "markdown",
      "source": [
        "this is from https://github.com/viritaromero/Plant-diseases-classifier/blob/master/Plant_diseased_classifier.ipynb"
      ],
      "metadata": {
        "id": "mqLquoI3zKp1"
      }
    }
  ]
}